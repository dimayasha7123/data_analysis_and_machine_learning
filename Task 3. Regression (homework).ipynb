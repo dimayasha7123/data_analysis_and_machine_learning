{
  "cells": [
    {
      "cell_type": "markdown",
      "metadata": {
        "id": "-HF3uIDcDsFP"
      },
      "source": [
        "### Regression - эффективность расхода топлива\n"
      ]
    },
    {
      "cell_type": "markdown",
      "metadata": {
        "id": "9AOcyFnCDysV"
      },
      "source": [
        "В этом задании используется классический датасет Auto MPG. Необходимо построить модель, предсказывающую эффективность расхода топлива автомобилей конца 70-х и начала 80-х. В датасете представлено описание множества различных автомобилей того времени. В нём содержатся такие параметры как количество цилиндров, лошадиных сил, объем двигателя и вес.\n",
        "\n"
      ]
    },
    {
      "cell_type": "markdown",
      "metadata": {
        "id": "xyLovgMbmPdD"
      },
      "source": [
        "Описание данных\n",
        "\n",
        "* mpg - расход топлива\n",
        "* cylinders - количество цилиндров\n",
        "* displacement - смещение\n",
        "* horsepower - лошадиные силы\n",
        "* weight - вес\n",
        "* acceleration - ускорение\n",
        "* model year - год выпуска\n",
        "* origin - страна (1 - USA, 2 - Europe, 3 - Japan)\n",
        "* car name - наименование автомобиля"
      ]
    },
    {
      "cell_type": "code",
      "execution_count": 189,
      "metadata": {
        "id": "L8iKbpXb9MbV"
      },
      "outputs": [],
      "source": [
        "import pandas as pd\n",
        "import numpy as np\n",
        "import matplotlib.pyplot as plt\n",
        "import seaborn as sns"
      ]
    },
    {
      "cell_type": "code",
      "execution_count": 190,
      "metadata": {
        "colab": {
          "base_uri": "https://localhost:8080/"
        },
        "id": "8uuapZwshc_A",
        "outputId": "060f3a69-a606-45c5-9840-04eb7ff3308f"
      },
      "outputs": [],
      "source": [
        "# !gdown https://drive.google.com/uc?id=1_MfiAd6ZPYmgvRqTY61EQL5Nl2LtfoOM"
      ]
    },
    {
      "cell_type": "code",
      "execution_count": 191,
      "metadata": {
        "id": "0PX5ssT6iyUH"
      },
      "outputs": [],
      "source": [
        "data = pd.read_csv('auto-mpg.csv')"
      ]
    },
    {
      "cell_type": "code",
      "execution_count": 192,
      "metadata": {
        "colab": {
          "base_uri": "https://localhost:8080/"
        },
        "id": "kkNlhzKxl7zW",
        "outputId": "849574f9-9060-4103-b874-176be37a8884"
      },
      "outputs": [
        {
          "data": {
            "text/plain": [
              "(398, 9)"
            ]
          },
          "execution_count": 192,
          "metadata": {},
          "output_type": "execute_result"
        }
      ],
      "source": [
        "data.shape"
      ]
    },
    {
      "cell_type": "code",
      "execution_count": 193,
      "metadata": {
        "colab": {
          "base_uri": "https://localhost:8080/"
        },
        "id": "kfa6ckwMmCe-",
        "outputId": "50bb15d8-db03-476f-cb7d-3c014684c0eb"
      },
      "outputs": [
        {
          "data": {
            "text/plain": [
              "Index(['mpg', 'cylinders', 'displacement', 'horsepower', 'weight',\n",
              "       'acceleration', 'model year', 'origin', 'car name'],\n",
              "      dtype='object')"
            ]
          },
          "execution_count": 193,
          "metadata": {},
          "output_type": "execute_result"
        }
      ],
      "source": [
        "data.columns"
      ]
    },
    {
      "cell_type": "code",
      "execution_count": 194,
      "metadata": {
        "colab": {
          "base_uri": "https://localhost:8080/",
          "height": 402
        },
        "id": "i1XBUhYlkM_s",
        "outputId": "329e84b7-dcd3-478d-d3ce-ba4b01f96bc4"
      },
      "outputs": [
        {
          "data": {
            "text/html": [
              "<div>\n",
              "<style scoped>\n",
              "    .dataframe tbody tr th:only-of-type {\n",
              "        vertical-align: middle;\n",
              "    }\n",
              "\n",
              "    .dataframe tbody tr th {\n",
              "        vertical-align: top;\n",
              "    }\n",
              "\n",
              "    .dataframe thead th {\n",
              "        text-align: right;\n",
              "    }\n",
              "</style>\n",
              "<table border=\"1\" class=\"dataframe\">\n",
              "  <thead>\n",
              "    <tr style=\"text-align: right;\">\n",
              "      <th></th>\n",
              "      <th>mpg</th>\n",
              "      <th>cylinders</th>\n",
              "      <th>displacement</th>\n",
              "      <th>horsepower</th>\n",
              "      <th>weight</th>\n",
              "      <th>acceleration</th>\n",
              "      <th>model year</th>\n",
              "      <th>origin</th>\n",
              "      <th>car name</th>\n",
              "    </tr>\n",
              "  </thead>\n",
              "  <tbody>\n",
              "    <tr>\n",
              "      <th>0</th>\n",
              "      <td>18.0</td>\n",
              "      <td>8</td>\n",
              "      <td>307.0</td>\n",
              "      <td>130</td>\n",
              "      <td>3504</td>\n",
              "      <td>12.0</td>\n",
              "      <td>70</td>\n",
              "      <td>1</td>\n",
              "      <td>chevrolet chevelle malibu</td>\n",
              "    </tr>\n",
              "    <tr>\n",
              "      <th>1</th>\n",
              "      <td>15.0</td>\n",
              "      <td>8</td>\n",
              "      <td>350.0</td>\n",
              "      <td>165</td>\n",
              "      <td>3693</td>\n",
              "      <td>11.5</td>\n",
              "      <td>70</td>\n",
              "      <td>1</td>\n",
              "      <td>buick skylark 320</td>\n",
              "    </tr>\n",
              "    <tr>\n",
              "      <th>2</th>\n",
              "      <td>18.0</td>\n",
              "      <td>8</td>\n",
              "      <td>318.0</td>\n",
              "      <td>150</td>\n",
              "      <td>3436</td>\n",
              "      <td>11.0</td>\n",
              "      <td>70</td>\n",
              "      <td>1</td>\n",
              "      <td>plymouth satellite</td>\n",
              "    </tr>\n",
              "    <tr>\n",
              "      <th>3</th>\n",
              "      <td>16.0</td>\n",
              "      <td>8</td>\n",
              "      <td>304.0</td>\n",
              "      <td>150</td>\n",
              "      <td>3433</td>\n",
              "      <td>12.0</td>\n",
              "      <td>70</td>\n",
              "      <td>1</td>\n",
              "      <td>amc rebel sst</td>\n",
              "    </tr>\n",
              "    <tr>\n",
              "      <th>4</th>\n",
              "      <td>17.0</td>\n",
              "      <td>8</td>\n",
              "      <td>302.0</td>\n",
              "      <td>140</td>\n",
              "      <td>3449</td>\n",
              "      <td>10.5</td>\n",
              "      <td>70</td>\n",
              "      <td>1</td>\n",
              "      <td>ford torino</td>\n",
              "    </tr>\n",
              "    <tr>\n",
              "      <th>5</th>\n",
              "      <td>15.0</td>\n",
              "      <td>8</td>\n",
              "      <td>429.0</td>\n",
              "      <td>198</td>\n",
              "      <td>4341</td>\n",
              "      <td>10.0</td>\n",
              "      <td>70</td>\n",
              "      <td>1</td>\n",
              "      <td>ford galaxie 500</td>\n",
              "    </tr>\n",
              "    <tr>\n",
              "      <th>6</th>\n",
              "      <td>14.0</td>\n",
              "      <td>8</td>\n",
              "      <td>454.0</td>\n",
              "      <td>220</td>\n",
              "      <td>4354</td>\n",
              "      <td>9.0</td>\n",
              "      <td>70</td>\n",
              "      <td>1</td>\n",
              "      <td>chevrolet impala</td>\n",
              "    </tr>\n",
              "    <tr>\n",
              "      <th>7</th>\n",
              "      <td>14.0</td>\n",
              "      <td>8</td>\n",
              "      <td>440.0</td>\n",
              "      <td>215</td>\n",
              "      <td>4312</td>\n",
              "      <td>8.5</td>\n",
              "      <td>70</td>\n",
              "      <td>1</td>\n",
              "      <td>plymouth fury iii</td>\n",
              "    </tr>\n",
              "    <tr>\n",
              "      <th>8</th>\n",
              "      <td>14.0</td>\n",
              "      <td>8</td>\n",
              "      <td>455.0</td>\n",
              "      <td>225</td>\n",
              "      <td>4425</td>\n",
              "      <td>10.0</td>\n",
              "      <td>70</td>\n",
              "      <td>1</td>\n",
              "      <td>pontiac catalina</td>\n",
              "    </tr>\n",
              "    <tr>\n",
              "      <th>9</th>\n",
              "      <td>15.0</td>\n",
              "      <td>8</td>\n",
              "      <td>390.0</td>\n",
              "      <td>190</td>\n",
              "      <td>3850</td>\n",
              "      <td>8.5</td>\n",
              "      <td>70</td>\n",
              "      <td>1</td>\n",
              "      <td>amc ambassador dpl</td>\n",
              "    </tr>\n",
              "  </tbody>\n",
              "</table>\n",
              "</div>"
            ],
            "text/plain": [
              "    mpg  cylinders  displacement horsepower  weight  acceleration  model year  \\\n",
              "0  18.0          8         307.0        130    3504          12.0          70   \n",
              "1  15.0          8         350.0        165    3693          11.5          70   \n",
              "2  18.0          8         318.0        150    3436          11.0          70   \n",
              "3  16.0          8         304.0        150    3433          12.0          70   \n",
              "4  17.0          8         302.0        140    3449          10.5          70   \n",
              "5  15.0          8         429.0        198    4341          10.0          70   \n",
              "6  14.0          8         454.0        220    4354           9.0          70   \n",
              "7  14.0          8         440.0        215    4312           8.5          70   \n",
              "8  14.0          8         455.0        225    4425          10.0          70   \n",
              "9  15.0          8         390.0        190    3850           8.5          70   \n",
              "\n",
              "   origin                   car name  \n",
              "0       1  chevrolet chevelle malibu  \n",
              "1       1          buick skylark 320  \n",
              "2       1         plymouth satellite  \n",
              "3       1              amc rebel sst  \n",
              "4       1                ford torino  \n",
              "5       1           ford galaxie 500  \n",
              "6       1           chevrolet impala  \n",
              "7       1          plymouth fury iii  \n",
              "8       1           pontiac catalina  \n",
              "9       1         amc ambassador dpl  "
            ]
          },
          "execution_count": 194,
          "metadata": {},
          "output_type": "execute_result"
        }
      ],
      "source": [
        "data.head(10)"
      ]
    },
    {
      "cell_type": "markdown",
      "metadata": {
        "id": "xXVkucFsH-G_"
      },
      "source": [
        "### Задание 1\n",
        "\n",
        "Проведите анализ и визуализацию данных. А также реализуйте предварительную обработку данных - добавьте признак AGE возраст автомобиля (в предположении, что анализ проводится в 1985 году), а также удалите категориальные признаки."
      ]
    },
    {
      "cell_type": "code",
      "execution_count": 195,
      "metadata": {
        "id": "BjwDOvd1IoUx"
      },
      "outputs": [
        {
          "name": "stdout",
          "output_type": "stream",
          "text": [
            "<class 'pandas.core.frame.DataFrame'>\n",
            "Int64Index: 392 entries, 0 to 397\n",
            "Data columns (total 9 columns):\n",
            " #   Column        Non-Null Count  Dtype  \n",
            "---  ------        --------------  -----  \n",
            " 0   mpg           392 non-null    float64\n",
            " 1   cylinders     392 non-null    int64  \n",
            " 2   displacement  392 non-null    float64\n",
            " 3   horsepower    392 non-null    int64  \n",
            " 4   weight        392 non-null    int64  \n",
            " 5   acceleration  392 non-null    float64\n",
            " 6   model year    392 non-null    int64  \n",
            " 7   origin        392 non-null    int64  \n",
            " 8   age           392 non-null    int64  \n",
            "dtypes: float64(3), int64(6)\n",
            "memory usage: 30.6 KB\n"
          ]
        }
      ],
      "source": [
        "data['age'] = 85 - data['model year']\n",
        "data = data.drop('car name', axis = 1)\n",
        "data = data.drop(data[data['horsepower'] == '?'].index)\n",
        "data['horsepower'] = pd.to_numeric(data['horsepower'])\n",
        "data.info()"
      ]
    },
    {
      "cell_type": "code",
      "execution_count": null,
      "metadata": {},
      "outputs": [],
      "source": [
        "for index, feature_name in enumerate(data.columns):\n",
        "    plt.figure()\n",
        "    plt.scatter(data[:, index], y)\n",
        "    plt.ylabel('Miles per gallon')\n",
        "    plt.xlabel(feature_name)"
      ]
    },
    {
      "cell_type": "markdown",
      "metadata": {
        "id": "5ekYhVCPIrJf"
      },
      "source": [
        "### Задание 2\n",
        "\n",
        "Реализуйте линейную регрессию - зависимость расхода топлива от мощности двигателя (количество лошадиных сил). Какая линейная зависимость получилась? Проведите анализ."
      ]
    },
    {
      "cell_type": "code",
      "execution_count": 196,
      "metadata": {
        "id": "WJYu-3zOI_fR"
      },
      "outputs": [],
      "source": [
        "#здесь ваш код"
      ]
    },
    {
      "cell_type": "markdown",
      "metadata": {
        "id": "lSvHHFbdJIEc"
      },
      "source": [
        "### Задание 3\n",
        "\n",
        "Реализуйте множественную регрессию, при этом необходимо провести масштабирование признаков."
      ]
    },
    {
      "cell_type": "code",
      "execution_count": 197,
      "metadata": {
        "id": "cA6VqgFCJNXV"
      },
      "outputs": [],
      "source": [
        "#здесь ваш код"
      ]
    },
    {
      "cell_type": "markdown",
      "metadata": {
        "id": "UHYmqwGJJN4d"
      },
      "source": [
        "### Задание 4\n",
        "Выполните регуляризацию модели разными способами и оцените её качество. "
      ]
    },
    {
      "cell_type": "code",
      "execution_count": 198,
      "metadata": {
        "id": "KOQRu4H6KHGe"
      },
      "outputs": [],
      "source": [
        "#здесь ваш код"
      ]
    },
    {
      "cell_type": "markdown",
      "metadata": {
        "id": "bHWy7w2NKIqz"
      },
      "source": [
        "### Задание 5\n",
        "\n",
        "Проведите оценку и сравнительный анализ результатов. Какие признаки являются значимыми?"
      ]
    },
    {
      "cell_type": "code",
      "execution_count": 199,
      "metadata": {
        "id": "sEwB2EPZKwWw"
      },
      "outputs": [],
      "source": [
        "#здесь ваш код"
      ]
    }
  ],
  "metadata": {
    "colab": {
      "provenance": [],
      "toc_visible": true
    },
    "kernelspec": {
      "display_name": "Python 3.10.4 64-bit",
      "language": "python",
      "name": "python3"
    },
    "language_info": {
      "codemirror_mode": {
        "name": "ipython",
        "version": 3
      },
      "file_extension": ".py",
      "mimetype": "text/x-python",
      "name": "python",
      "nbconvert_exporter": "python",
      "pygments_lexer": "ipython3",
      "version": "3.10.4"
    },
    "vscode": {
      "interpreter": {
        "hash": "916dbcbb3f70747c44a77c7bcd40155683ae19c65e1c03b4aa3499c5328201f1"
      }
    }
  },
  "nbformat": 4,
  "nbformat_minor": 0
}
